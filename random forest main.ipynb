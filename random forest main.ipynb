{
 "cells": [
  {
   "cell_type": "markdown",
   "metadata": {},
   "source": [
    "# Module 5 : Performance measurements of  Random Forest algorithms"
   ]
  },
  {
   "cell_type": "code",
   "execution_count": 2,
   "metadata": {},
   "outputs": [],
   "source": [
    "import pandas as pd"
   ]
  },
  {
   "cell_type": "code",
   "execution_count": 3,
   "metadata": {},
   "outputs": [],
   "source": [
    "import numpy as np"
   ]
  },
  {
   "cell_type": "code",
   "execution_count": 4,
   "metadata": {},
   "outputs": [],
   "source": [
    "import matplotlib.pyplot as plt\n",
    "import seaborn as sns"
   ]
  },
  {
   "cell_type": "code",
   "execution_count": 5,
   "metadata": {},
   "outputs": [],
   "source": [
    "# warning\n",
    "import warnings\n",
    "warnings.filterwarnings(\"ignore\")"
   ]
  },
  {
   "cell_type": "code",
   "execution_count": 6,
   "metadata": {},
   "outputs": [],
   "source": [
    "# load given data\n",
    "data= pd.read_csv(r'/Users/sreekarsontam/Desktop/liver/doc/liver_patient (1).csv')"
   ]
  },
  {
   "cell_type": "code",
   "execution_count": 7,
   "metadata": {
    "scrolled": true
   },
   "outputs": [
    {
     "data": {
      "text/html": [
       "<div>\n",
       "<style scoped>\n",
       "    .dataframe tbody tr th:only-of-type {\n",
       "        vertical-align: middle;\n",
       "    }\n",
       "\n",
       "    .dataframe tbody tr th {\n",
       "        vertical-align: top;\n",
       "    }\n",
       "\n",
       "    .dataframe thead th {\n",
       "        text-align: right;\n",
       "    }\n",
       "</style>\n",
       "<table border=\"1\" class=\"dataframe\">\n",
       "  <thead>\n",
       "    <tr style=\"text-align: right;\">\n",
       "      <th></th>\n",
       "      <th>Age</th>\n",
       "      <th>Gender</th>\n",
       "      <th>Total_Bilirubin</th>\n",
       "      <th>Direct_Bilirubin</th>\n",
       "      <th>Alkaline_Phosphotase</th>\n",
       "      <th>Alamine_Aminotransferase</th>\n",
       "      <th>Aspartate_Aminotransferase</th>\n",
       "      <th>Total_Protiens</th>\n",
       "      <th>Albumin</th>\n",
       "      <th>Albumin_and_Globulin_Ratio</th>\n",
       "      <th>Dataset</th>\n",
       "    </tr>\n",
       "  </thead>\n",
       "  <tbody>\n",
       "    <tr>\n",
       "      <th>0</th>\n",
       "      <td>65</td>\n",
       "      <td>Female</td>\n",
       "      <td>0.7</td>\n",
       "      <td>0.1</td>\n",
       "      <td>187</td>\n",
       "      <td>16</td>\n",
       "      <td>18</td>\n",
       "      <td>6.8</td>\n",
       "      <td>3.3</td>\n",
       "      <td>0.90</td>\n",
       "      <td>1</td>\n",
       "    </tr>\n",
       "    <tr>\n",
       "      <th>1</th>\n",
       "      <td>62</td>\n",
       "      <td>Male</td>\n",
       "      <td>10.9</td>\n",
       "      <td>5.5</td>\n",
       "      <td>699</td>\n",
       "      <td>64</td>\n",
       "      <td>100</td>\n",
       "      <td>7.5</td>\n",
       "      <td>3.2</td>\n",
       "      <td>0.74</td>\n",
       "      <td>1</td>\n",
       "    </tr>\n",
       "    <tr>\n",
       "      <th>2</th>\n",
       "      <td>62</td>\n",
       "      <td>Male</td>\n",
       "      <td>7.3</td>\n",
       "      <td>4.1</td>\n",
       "      <td>490</td>\n",
       "      <td>60</td>\n",
       "      <td>68</td>\n",
       "      <td>7.0</td>\n",
       "      <td>3.3</td>\n",
       "      <td>0.89</td>\n",
       "      <td>1</td>\n",
       "    </tr>\n",
       "    <tr>\n",
       "      <th>3</th>\n",
       "      <td>58</td>\n",
       "      <td>Male</td>\n",
       "      <td>1.0</td>\n",
       "      <td>0.4</td>\n",
       "      <td>182</td>\n",
       "      <td>14</td>\n",
       "      <td>20</td>\n",
       "      <td>6.8</td>\n",
       "      <td>3.4</td>\n",
       "      <td>1.00</td>\n",
       "      <td>1</td>\n",
       "    </tr>\n",
       "    <tr>\n",
       "      <th>4</th>\n",
       "      <td>72</td>\n",
       "      <td>Male</td>\n",
       "      <td>3.9</td>\n",
       "      <td>2.0</td>\n",
       "      <td>195</td>\n",
       "      <td>27</td>\n",
       "      <td>59</td>\n",
       "      <td>7.3</td>\n",
       "      <td>2.4</td>\n",
       "      <td>0.40</td>\n",
       "      <td>1</td>\n",
       "    </tr>\n",
       "  </tbody>\n",
       "</table>\n",
       "</div>"
      ],
      "text/plain": [
       "   Age  Gender  Total_Bilirubin  Direct_Bilirubin  Alkaline_Phosphotase  \\\n",
       "0   65  Female              0.7               0.1                   187   \n",
       "1   62    Male             10.9               5.5                   699   \n",
       "2   62    Male              7.3               4.1                   490   \n",
       "3   58    Male              1.0               0.4                   182   \n",
       "4   72    Male              3.9               2.0                   195   \n",
       "\n",
       "   Alamine_Aminotransferase  Aspartate_Aminotransferase  Total_Protiens  \\\n",
       "0                        16                          18             6.8   \n",
       "1                        64                         100             7.5   \n",
       "2                        60                          68             7.0   \n",
       "3                        14                          20             6.8   \n",
       "4                        27                          59             7.3   \n",
       "\n",
       "   Albumin  Albumin_and_Globulin_Ratio  Dataset  \n",
       "0      3.3                        0.90        1  \n",
       "1      3.2                        0.74        1  \n",
       "2      3.3                        0.89        1  \n",
       "3      3.4                        1.00        1  \n",
       "4      2.4                        0.40        1  "
      ]
     },
     "execution_count": 7,
     "metadata": {},
     "output_type": "execute_result"
    }
   ],
   "source": [
    "data.head()"
   ]
  },
  {
   "cell_type": "code",
   "execution_count": 8,
   "metadata": {},
   "outputs": [
    {
     "data": {
      "text/plain": [
       "array([1, 2])"
      ]
     },
     "execution_count": 8,
     "metadata": {},
     "output_type": "execute_result"
    }
   ],
   "source": [
    "data[\"Dataset\"].unique()"
   ]
  },
  {
   "cell_type": "code",
   "execution_count": 9,
   "metadata": {},
   "outputs": [
    {
     "data": {
      "text/plain": [
       "13"
      ]
     },
     "execution_count": 9,
     "metadata": {},
     "output_type": "execute_result"
    }
   ],
   "source": [
    "data.duplicated().sum()"
   ]
  },
  {
   "cell_type": "markdown",
   "metadata": {},
   "source": []
  },
  {
   "cell_type": "code",
   "execution_count": 10,
   "metadata": {},
   "outputs": [
    {
     "data": {
      "text/plain": [
       "(583, 11)"
      ]
     },
     "execution_count": 10,
     "metadata": {},
     "output_type": "execute_result"
    }
   ],
   "source": [
    "data.shape"
   ]
  },
  {
   "cell_type": "code",
   "execution_count": 11,
   "metadata": {},
   "outputs": [],
   "source": [
    "data = data.drop_duplicates()"
   ]
  },
  {
   "cell_type": "code",
   "execution_count": 12,
   "metadata": {},
   "outputs": [
    {
     "data": {
      "text/plain": [
       "(570, 11)"
      ]
     },
     "execution_count": 12,
     "metadata": {},
     "output_type": "execute_result"
    }
   ],
   "source": [
    "data.shape"
   ]
  },
  {
   "cell_type": "code",
   "execution_count": 13,
   "metadata": {},
   "outputs": [
    {
     "data": {
      "text/plain": [
       "Age                           0\n",
       "Gender                        0\n",
       "Total_Bilirubin               0\n",
       "Direct_Bilirubin              0\n",
       "Alkaline_Phosphotase          0\n",
       "Alamine_Aminotransferase      0\n",
       "Aspartate_Aminotransferase    0\n",
       "Total_Protiens                0\n",
       "Albumin                       0\n",
       "Albumin_and_Globulin_Ratio    4\n",
       "Dataset                       0\n",
       "dtype: int64"
      ]
     },
     "execution_count": 13,
     "metadata": {},
     "output_type": "execute_result"
    }
   ],
   "source": [
    "data.isnull().sum()"
   ]
  },
  {
   "cell_type": "code",
   "execution_count": 14,
   "metadata": {},
   "outputs": [],
   "source": [
    "df=data.dropna()"
   ]
  },
  {
   "cell_type": "code",
   "execution_count": 15,
   "metadata": {},
   "outputs": [
    {
     "data": {
      "text/plain": [
       "(566, 11)"
      ]
     },
     "execution_count": 15,
     "metadata": {},
     "output_type": "execute_result"
    }
   ],
   "source": [
    "df.shape"
   ]
  },
  {
   "cell_type": "code",
   "execution_count": 16,
   "metadata": {},
   "outputs": [
    {
     "data": {
      "text/plain": [
       "Age                           0\n",
       "Gender                        0\n",
       "Total_Bilirubin               0\n",
       "Direct_Bilirubin              0\n",
       "Alkaline_Phosphotase          0\n",
       "Alamine_Aminotransferase      0\n",
       "Aspartate_Aminotransferase    0\n",
       "Total_Protiens                0\n",
       "Albumin                       0\n",
       "Albumin_and_Globulin_Ratio    0\n",
       "Dataset                       0\n",
       "dtype: int64"
      ]
     },
     "execution_count": 16,
     "metadata": {},
     "output_type": "execute_result"
    }
   ],
   "source": [
    "df.isnull().sum()"
   ]
  },
  {
   "cell_type": "code",
   "execution_count": 17,
   "metadata": {},
   "outputs": [],
   "source": [
    "#changing feature name\n",
    "df = df.rename({'Dataset': 'Result'}, axis=1) "
   ]
  },
  {
   "cell_type": "code",
   "execution_count": 18,
   "metadata": {},
   "outputs": [
    {
     "data": {
      "text/plain": [
       "Index(['Age', 'Gender', 'Total_Bilirubin', 'Direct_Bilirubin',\n",
       "       'Alkaline_Phosphotase', 'Alamine_Aminotransferase',\n",
       "       'Aspartate_Aminotransferase', 'Total_Protiens', 'Albumin',\n",
       "       'Albumin_and_Globulin_Ratio', 'Result'],\n",
       "      dtype='object')"
      ]
     },
     "execution_count": 18,
     "metadata": {},
     "output_type": "execute_result"
    }
   ],
   "source": [
    "df.columns"
   ]
  },
  {
   "cell_type": "code",
   "execution_count": 19,
   "metadata": {},
   "outputs": [],
   "source": [
    "from sklearn.preprocessing import LabelEncoder\n",
    "var_mod = ['Gender']\n",
    "le = LabelEncoder()\n",
    "for i in var_mod:\n",
    "    df[i] = le.fit_transform(df[i]).astype(int)\n"
   ]
  },
  {
   "cell_type": "code",
   "execution_count": 20,
   "metadata": {},
   "outputs": [
    {
     "data": {
      "text/plain": [
       "1    404\n",
       "2    162\n",
       "Name: Result, dtype: int64"
      ]
     },
     "execution_count": 20,
     "metadata": {},
     "output_type": "execute_result"
    }
   ],
   "source": [
    "df.Result.value_counts()"
   ]
  },
  {
   "cell_type": "code",
   "execution_count": 21,
   "metadata": {},
   "outputs": [
    {
     "data": {
      "text/html": [
       "<div>\n",
       "<style scoped>\n",
       "    .dataframe tbody tr th:only-of-type {\n",
       "        vertical-align: middle;\n",
       "    }\n",
       "\n",
       "    .dataframe tbody tr th {\n",
       "        vertical-align: top;\n",
       "    }\n",
       "\n",
       "    .dataframe thead th {\n",
       "        text-align: right;\n",
       "    }\n",
       "</style>\n",
       "<table border=\"1\" class=\"dataframe\">\n",
       "  <thead>\n",
       "    <tr style=\"text-align: right;\">\n",
       "      <th></th>\n",
       "      <th>Age</th>\n",
       "      <th>Gender</th>\n",
       "      <th>Total_Bilirubin</th>\n",
       "      <th>Direct_Bilirubin</th>\n",
       "      <th>Alkaline_Phosphotase</th>\n",
       "      <th>Alamine_Aminotransferase</th>\n",
       "      <th>Aspartate_Aminotransferase</th>\n",
       "      <th>Total_Protiens</th>\n",
       "      <th>Albumin</th>\n",
       "      <th>Albumin_and_Globulin_Ratio</th>\n",
       "      <th>Result</th>\n",
       "    </tr>\n",
       "  </thead>\n",
       "  <tbody>\n",
       "    <tr>\n",
       "      <th>Age</th>\n",
       "      <td>1.000000</td>\n",
       "      <td>0.057542</td>\n",
       "      <td>0.010704</td>\n",
       "      <td>0.006268</td>\n",
       "      <td>0.080085</td>\n",
       "      <td>-0.084319</td>\n",
       "      <td>-0.017352</td>\n",
       "      <td>-0.195893</td>\n",
       "      <td>-0.269448</td>\n",
       "      <td>-0.215967</td>\n",
       "      <td>-0.133821</td>\n",
       "    </tr>\n",
       "    <tr>\n",
       "      <th>Gender</th>\n",
       "      <td>0.057542</td>\n",
       "      <td>1.000000</td>\n",
       "      <td>0.089068</td>\n",
       "      <td>0.100448</td>\n",
       "      <td>-0.024879</td>\n",
       "      <td>0.083336</td>\n",
       "      <td>0.080593</td>\n",
       "      <td>-0.092049</td>\n",
       "      <td>-0.093208</td>\n",
       "      <td>-0.005611</td>\n",
       "      <td>-0.077396</td>\n",
       "    </tr>\n",
       "    <tr>\n",
       "      <th>Total_Bilirubin</th>\n",
       "      <td>0.010704</td>\n",
       "      <td>0.089068</td>\n",
       "      <td>1.000000</td>\n",
       "      <td>0.873975</td>\n",
       "      <td>0.205286</td>\n",
       "      <td>0.216776</td>\n",
       "      <td>0.238167</td>\n",
       "      <td>-0.008423</td>\n",
       "      <td>-0.223979</td>\n",
       "      <td>-0.207740</td>\n",
       "      <td>-0.224467</td>\n",
       "    </tr>\n",
       "    <tr>\n",
       "      <th>Direct_Bilirubin</th>\n",
       "      <td>0.006268</td>\n",
       "      <td>0.100448</td>\n",
       "      <td>0.873975</td>\n",
       "      <td>1.000000</td>\n",
       "      <td>0.233653</td>\n",
       "      <td>0.236731</td>\n",
       "      <td>0.257965</td>\n",
       "      <td>-0.000735</td>\n",
       "      <td>-0.230650</td>\n",
       "      <td>-0.201519</td>\n",
       "      <td>-0.250926</td>\n",
       "    </tr>\n",
       "    <tr>\n",
       "      <th>Alkaline_Phosphotase</th>\n",
       "      <td>0.080085</td>\n",
       "      <td>-0.024879</td>\n",
       "      <td>0.205286</td>\n",
       "      <td>0.233653</td>\n",
       "      <td>1.000000</td>\n",
       "      <td>0.125917</td>\n",
       "      <td>0.166609</td>\n",
       "      <td>-0.028623</td>\n",
       "      <td>-0.166287</td>\n",
       "      <td>-0.236251</td>\n",
       "      <td>-0.186057</td>\n",
       "    </tr>\n",
       "    <tr>\n",
       "      <th>Alamine_Aminotransferase</th>\n",
       "      <td>-0.084319</td>\n",
       "      <td>0.083336</td>\n",
       "      <td>0.216776</td>\n",
       "      <td>0.236731</td>\n",
       "      <td>0.125917</td>\n",
       "      <td>1.000000</td>\n",
       "      <td>0.791754</td>\n",
       "      <td>-0.035104</td>\n",
       "      <td>-0.026890</td>\n",
       "      <td>-0.006525</td>\n",
       "      <td>-0.161617</td>\n",
       "    </tr>\n",
       "    <tr>\n",
       "      <th>Aspartate_Aminotransferase</th>\n",
       "      <td>-0.017352</td>\n",
       "      <td>0.080593</td>\n",
       "      <td>0.238167</td>\n",
       "      <td>0.257965</td>\n",
       "      <td>0.166609</td>\n",
       "      <td>0.791754</td>\n",
       "      <td>1.000000</td>\n",
       "      <td>-0.022114</td>\n",
       "      <td>-0.084821</td>\n",
       "      <td>-0.072899</td>\n",
       "      <td>-0.151009</td>\n",
       "    </tr>\n",
       "    <tr>\n",
       "      <th>Total_Protiens</th>\n",
       "      <td>-0.195893</td>\n",
       "      <td>-0.092049</td>\n",
       "      <td>-0.008423</td>\n",
       "      <td>-0.000735</td>\n",
       "      <td>-0.028623</td>\n",
       "      <td>-0.035104</td>\n",
       "      <td>-0.022114</td>\n",
       "      <td>1.000000</td>\n",
       "      <td>0.783800</td>\n",
       "      <td>0.234576</td>\n",
       "      <td>0.036443</td>\n",
       "    </tr>\n",
       "    <tr>\n",
       "      <th>Albumin</th>\n",
       "      <td>-0.269448</td>\n",
       "      <td>-0.093208</td>\n",
       "      <td>-0.223979</td>\n",
       "      <td>-0.230650</td>\n",
       "      <td>-0.166287</td>\n",
       "      <td>-0.026890</td>\n",
       "      <td>-0.084821</td>\n",
       "      <td>0.783800</td>\n",
       "      <td>1.000000</td>\n",
       "      <td>0.687438</td>\n",
       "      <td>0.165273</td>\n",
       "    </tr>\n",
       "    <tr>\n",
       "      <th>Albumin_and_Globulin_Ratio</th>\n",
       "      <td>-0.215967</td>\n",
       "      <td>-0.005611</td>\n",
       "      <td>-0.207740</td>\n",
       "      <td>-0.201519</td>\n",
       "      <td>-0.236251</td>\n",
       "      <td>-0.006525</td>\n",
       "      <td>-0.072899</td>\n",
       "      <td>0.234576</td>\n",
       "      <td>0.687438</td>\n",
       "      <td>1.000000</td>\n",
       "      <td>0.171402</td>\n",
       "    </tr>\n",
       "    <tr>\n",
       "      <th>Result</th>\n",
       "      <td>-0.133821</td>\n",
       "      <td>-0.077396</td>\n",
       "      <td>-0.224467</td>\n",
       "      <td>-0.250926</td>\n",
       "      <td>-0.186057</td>\n",
       "      <td>-0.161617</td>\n",
       "      <td>-0.151009</td>\n",
       "      <td>0.036443</td>\n",
       "      <td>0.165273</td>\n",
       "      <td>0.171402</td>\n",
       "      <td>1.000000</td>\n",
       "    </tr>\n",
       "  </tbody>\n",
       "</table>\n",
       "</div>"
      ],
      "text/plain": [
       "                                 Age    Gender  Total_Bilirubin  \\\n",
       "Age                         1.000000  0.057542         0.010704   \n",
       "Gender                      0.057542  1.000000         0.089068   \n",
       "Total_Bilirubin             0.010704  0.089068         1.000000   \n",
       "Direct_Bilirubin            0.006268  0.100448         0.873975   \n",
       "Alkaline_Phosphotase        0.080085 -0.024879         0.205286   \n",
       "Alamine_Aminotransferase   -0.084319  0.083336         0.216776   \n",
       "Aspartate_Aminotransferase -0.017352  0.080593         0.238167   \n",
       "Total_Protiens             -0.195893 -0.092049        -0.008423   \n",
       "Albumin                    -0.269448 -0.093208        -0.223979   \n",
       "Albumin_and_Globulin_Ratio -0.215967 -0.005611        -0.207740   \n",
       "Result                     -0.133821 -0.077396        -0.224467   \n",
       "\n",
       "                            Direct_Bilirubin  Alkaline_Phosphotase  \\\n",
       "Age                                 0.006268              0.080085   \n",
       "Gender                              0.100448             -0.024879   \n",
       "Total_Bilirubin                     0.873975              0.205286   \n",
       "Direct_Bilirubin                    1.000000              0.233653   \n",
       "Alkaline_Phosphotase                0.233653              1.000000   \n",
       "Alamine_Aminotransferase            0.236731              0.125917   \n",
       "Aspartate_Aminotransferase          0.257965              0.166609   \n",
       "Total_Protiens                     -0.000735             -0.028623   \n",
       "Albumin                            -0.230650             -0.166287   \n",
       "Albumin_and_Globulin_Ratio         -0.201519             -0.236251   \n",
       "Result                             -0.250926             -0.186057   \n",
       "\n",
       "                            Alamine_Aminotransferase  \\\n",
       "Age                                        -0.084319   \n",
       "Gender                                      0.083336   \n",
       "Total_Bilirubin                             0.216776   \n",
       "Direct_Bilirubin                            0.236731   \n",
       "Alkaline_Phosphotase                        0.125917   \n",
       "Alamine_Aminotransferase                    1.000000   \n",
       "Aspartate_Aminotransferase                  0.791754   \n",
       "Total_Protiens                             -0.035104   \n",
       "Albumin                                    -0.026890   \n",
       "Albumin_and_Globulin_Ratio                 -0.006525   \n",
       "Result                                     -0.161617   \n",
       "\n",
       "                            Aspartate_Aminotransferase  Total_Protiens  \\\n",
       "Age                                          -0.017352       -0.195893   \n",
       "Gender                                        0.080593       -0.092049   \n",
       "Total_Bilirubin                               0.238167       -0.008423   \n",
       "Direct_Bilirubin                              0.257965       -0.000735   \n",
       "Alkaline_Phosphotase                          0.166609       -0.028623   \n",
       "Alamine_Aminotransferase                      0.791754       -0.035104   \n",
       "Aspartate_Aminotransferase                    1.000000       -0.022114   \n",
       "Total_Protiens                               -0.022114        1.000000   \n",
       "Albumin                                      -0.084821        0.783800   \n",
       "Albumin_and_Globulin_Ratio                   -0.072899        0.234576   \n",
       "Result                                       -0.151009        0.036443   \n",
       "\n",
       "                             Albumin  Albumin_and_Globulin_Ratio    Result  \n",
       "Age                        -0.269448                   -0.215967 -0.133821  \n",
       "Gender                     -0.093208                   -0.005611 -0.077396  \n",
       "Total_Bilirubin            -0.223979                   -0.207740 -0.224467  \n",
       "Direct_Bilirubin           -0.230650                   -0.201519 -0.250926  \n",
       "Alkaline_Phosphotase       -0.166287                   -0.236251 -0.186057  \n",
       "Alamine_Aminotransferase   -0.026890                   -0.006525 -0.161617  \n",
       "Aspartate_Aminotransferase -0.084821                   -0.072899 -0.151009  \n",
       "Total_Protiens              0.783800                    0.234576  0.036443  \n",
       "Albumin                     1.000000                    0.687438  0.165273  \n",
       "Albumin_and_Globulin_Ratio  0.687438                    1.000000  0.171402  \n",
       "Result                      0.165273                    0.171402  1.000000  "
      ]
     },
     "execution_count": 21,
     "metadata": {},
     "output_type": "execute_result"
    }
   ],
   "source": [
    "df.corr()"
   ]
  },
  {
   "cell_type": "code",
   "execution_count": 22,
   "metadata": {},
   "outputs": [],
   "source": [
    "X = df.drop(labels='Result', axis=1)\n",
    "#Response variable\n",
    "y = df.loc[:,'Result']    "
   ]
  },
  {
   "cell_type": "code",
   "execution_count": 23,
   "metadata": {},
   "outputs": [],
   "source": [
    "from imblearn.combine import SMOTETomek\n",
    "smk = SMOTETomek(sampling_strategy=1,random_state=42)\n",
    "x1,y1 = smk.fit_resample(X,y)"
   ]
  },
  {
   "cell_type": "code",
   "execution_count": 24,
   "metadata": {},
   "outputs": [
    {
     "data": {
      "text/plain": [
       "array([[ 1.26146047, -1.40590273, -0.35733089, ...,  0.27949773,\n",
       "         0.12074342, -0.25156283],\n",
       "       [ 1.07906334,  0.71128676,  1.51110235, ...,  0.95197036,\n",
       "        -0.00984124, -0.77767377],\n",
       "       [ 1.07906334,  0.71128676,  0.85165533, ...,  0.47163276,\n",
       "         0.12074342, -0.28444477],\n",
       "       ...,\n",
       "       [ 0.53187195, -1.40590273, -0.29467418, ..., -0.48247646,\n",
       "        -0.5024929 , -0.5168657 ],\n",
       "       [ 0.28867577,  0.71128676, -0.35733089, ...,  1.78191642,\n",
       "         1.26996782,  0.07101232],\n",
       "       [-0.98810414,  0.71128676, -0.35412955, ...,  0.35877604,\n",
       "         0.53531898,  0.27039917]])"
      ]
     },
     "execution_count": 24,
     "metadata": {},
     "output_type": "execute_result"
    }
   ],
   "source": [
    "from sklearn.preprocessing import StandardScaler\n",
    "scaler = StandardScaler()\n",
    "x1=scaler.fit_transform(x1)\n",
    "x1"
   ]
  },
  {
   "cell_type": "code",
   "execution_count": 25,
   "metadata": {},
   "outputs": [],
   "source": [
    "# now let's evaluate its performance on the test set.\n",
    "from sklearn.metrics import confusion_matrix, classification_report, matthews_corrcoef, cohen_kappa_score, accuracy_score, average_precision_score, roc_auc_score,ConfusionMatrixDisplay"
   ]
  },
  {
   "cell_type": "code",
   "execution_count": 26,
   "metadata": {},
   "outputs": [],
   "source": [
    "\n",
    "#We'll use a test size of 30%. We also stratify the split on the response variable, which is very important to do because there are so few fraudulent transactions.\n",
    "from sklearn.model_selection import train_test_split\n",
    "X_train, X_test, y_train, y_test = train_test_split(x1, y1, test_size=0.3, random_state=1, stratify=y1)"
   ]
  },
  {
   "cell_type": "markdown",
   "metadata": {},
   "source": [
    "# RANDOM FOREST:"
   ]
  },
  {
   "cell_type": "code",
   "execution_count": 27,
   "metadata": {},
   "outputs": [
    {
     "name": "stdout",
     "output_type": "stream",
     "text": [
      "\n",
      "Classification report of Random Forest Results:\n",
      "\n",
      "              precision    recall  f1-score   support\n",
      "\n",
      "           1       0.91      0.75      0.83       114\n",
      "           2       0.79      0.93      0.86       115\n",
      "\n",
      "    accuracy                           0.84       229\n",
      "   macro avg       0.85      0.84      0.84       229\n",
      "weighted avg       0.85      0.84      0.84       229\n",
      "\n",
      "Accuracy result of Random Forest is: 84.27947598253274\n",
      "\n",
      "Confusion Matrix result of Random Forest is:\n",
      " [[ 86  28]\n",
      " [  8 107]]\n",
      "\n",
      "Sensitivity :  0.9304347826086956\n",
      "\n",
      "Specificity :  0.7543859649122807\n",
      "\n",
      "Cross validation test results of accuracy:\n",
      "[0.68421053 0.71681416 0.71681416 0.59292035 0.75221239]\n",
      "\n",
      "Accuracy result of Random Forest is: 69.25943176525384\n"
     ]
    },
    {
     "data": {
      "image/png": "[encoded data removed]",
      "text/plain": [
       "<Figure size 500x500 with 1 Axes>"
      ]
     },
     "metadata": {},
     "output_type": "display_data"
    }
   ],
   "source": [
    "from sklearn.ensemble import RandomForestClassifier\n",
    "from sklearn.metrics import accuracy_score, confusion_matrix\n",
    "from sklearn.model_selection import cross_val_score\n",
    "\n",
    "rfc = RandomForestClassifier()\n",
    "\n",
    "rfc.fit(X_train,y_train)\n",
    "\n",
    "predictR = rfc.predict(X_test)\n",
    "\n",
    "print(\"\")\n",
    "print('Classification report of Random Forest Results:')\n",
    "print(\"\")\n",
    "\n",
    "print(classification_report(y_test,predictR))\n",
    "x = (accuracy_score(y_test,predictR)*100)\n",
    "\n",
    "print('Accuracy result of Random Forest is:', x)\n",
    "print(\"\")\n",
    "cm1=confusion_matrix(y_test,predictR)\n",
    "print('Confusion Matrix result of Random Forest is:\\n',cm1)\n",
    "print(\"\")\n",
    "sensitivity1 = cm1[1,1]/(cm1[1,0]+cm1[1,1])\n",
    "print('Sensitivity : ', sensitivity1 )\n",
    "print(\"\")\n",
    "specificity1 = cm1[0,0]/(cm1[0,0]+cm1[0,1])\n",
    "print('Specificity : ', specificity1)\n",
    "print(\"\")\n",
    "\n",
    "accuracy = cross_val_score(rfc, X, y, scoring='accuracy')\n",
    "print('Cross validation test results of accuracy:')\n",
    "print(accuracy)\n",
    "#get the mean of each fold \n",
    "print(\"\")\n",
    "print(\"Accuracy result of Random Forest is:\",accuracy.mean() * 100)\n",
    "RFC=accuracy.mean() * 100\n",
    "\n",
    "\n",
    "\n",
    "\n",
    "\n",
    "def graph():\n",
    "    import matplotlib.pyplot as plt\n",
    "    data=[RFC]\n",
    "    alg=\"Random forest\"\n",
    "    plt.figure(figsize=(5,5))\n",
    "    b=plt.bar(alg,data,color=(\"b\"))\n",
    "    plt.title(\"Accuracy comparison of LIVER FAILURE\")\n",
    "    plt.legend(b,data,fontsize=9)\n",
    "\n",
    "\n",
    "\n",
    "\n",
    "graph()\n"
   ]
  },
  {
   "cell_type": "code",
   "execution_count": 28,
   "metadata": {},
   "outputs": [],
   "source": [
    "import pickle\n",
    "from sklearn.metrics import accuracy_score,confusion_matrix, precision_score, recall_score, ConfusionMatrixDisplay,classification_report"
   ]
  },
  {
   "cell_type": "code",
   "execution_count": 29,
   "metadata": {},
   "outputs": [],
   "source": [
    "model = pickle.load(open('/Users/sreekarsontam/Desktop/liver/codes/randoforest.h5', 'rb'))"
   ]
  },
  {
   "cell_type": "code",
   "execution_count": 30,
   "metadata": {},
   "outputs": [],
   "source": [
    "predictR = model.predict(X_test)"
   ]
  },
  {
   "cell_type": "code",
   "execution_count": 31,
   "metadata": {},
   "outputs": [
    {
     "name": "stdout",
     "output_type": "stream",
     "text": [
      "True Positive : 107\n",
      "True Negative : 8\n",
      "False Positive : 28\n",
      "False Negative : 86\n",
      "\n",
      "True Positive Rate : 0.5544041450777202\n",
      "True Negative Rate : 0.2222222222222222\n",
      "False Positive Rate : 0.7777777777777778\n",
      "False Negative Rate : 0.44559585492227977\n",
      "\n",
      "Positive Predictive Value : 0.7925925925925926\n",
      "Negative predictive value : 0.0851063829787234\n",
      "Confusion matrix-RF:\n",
      "[[ 87  27]\n",
      " [ 10 105]]\n"
     ]
    },
    {
     "data": {
      "image/png": "[encoded data removed]",
      "text/plain": [
       "<Figure size 640x480 with 2 Axes>"
      ]
     },
     "metadata": {},
     "output_type": "display_data"
    }
   ],
   "source": [
    "TN = cm1[1][0]\n",
    "FN = cm1[0][0]\n",
    "TP = cm1[1][1]\n",
    "FP = cm1[0][1]\n",
    "print(\"True Positive :\",TP)\n",
    "print(\"True Negative :\",TN)\n",
    "print(\"False Positive :\",FP)\n",
    "print(\"False Negative :\",FN)\n",
    "print(\"\")\n",
    "TPR = TP/(TP+FN)\n",
    "TNR = TN/(TN+FP)\n",
    "FPR = FP/(FP+TN)\n",
    "FNR = FN/(TP+FN)\n",
    "print(\"True Positive Rate :\",TPR)\n",
    "print(\"True Negative Rate :\",TNR)\n",
    "print(\"False Positive Rate :\",FPR)\n",
    "print(\"False Negative Rate :\",FNR)\n",
    "print(\"\")\n",
    "PPV = TP/(TP+FP)\n",
    "NPV = TN/(TN+FN)\n",
    "print(\"Positive Predictive Value :\",PPV)\n",
    "print(\"Negative predictive value :\",NPV)\n",
    "\n",
    "def plot_confusion_matrix(cm2, title='Confusion matrix-RF', cmap=plt.cm.Blues):\n",
    "    target_names=['']\n",
    "    plt.imshow(cm2, interpolation='nearest', cmap=cmap)\n",
    "    plt.title(title)\n",
    "    plt.colorbar()\n",
    "    tick_marks = np.arange(len(target_names))\n",
    "    plt.xticks(tick_marks, target_names, rotation=45)\n",
    "    plt.yticks(tick_marks, target_names)\n",
    "    plt.tight_layout()\n",
    "    plt.ylabel('True label')\n",
    "    plt.xlabel('Predicted label')\n",
    "\n",
    "cm2=confusion_matrix(y_test, predictR)\n",
    "print('Confusion matrix-RF:')\n",
    "print(cm2)\n",
    "\n",
    "sns.heatmap(cm2/np.sum(cm2), annot=True, cmap = 'Blues', annot_kws={\"size\": 16},fmt='.2%')\n",
    "plt.show()"
   ]
  },
  {
   "cell_type": "code",
   "execution_count": 32,
   "metadata": {},
   "outputs": [
    {
     "data": {
      "text/html": [
       "<div>\n",
       "<style scoped>\n",
       "    .dataframe tbody tr th:only-of-type {\n",
       "        vertical-align: middle;\n",
       "    }\n",
       "\n",
       "    .dataframe tbody tr th {\n",
       "        vertical-align: top;\n",
       "    }\n",
       "\n",
       "    .dataframe thead th {\n",
       "        text-align: right;\n",
       "    }\n",
       "</style>\n",
       "<table border=\"1\" class=\"dataframe\">\n",
       "  <thead>\n",
       "    <tr style=\"text-align: right;\">\n",
       "      <th></th>\n",
       "      <th>0</th>\n",
       "    </tr>\n",
       "  </thead>\n",
       "  <tbody>\n",
       "    <tr>\n",
       "      <th>accuracy</th>\n",
       "      <td>0.838428</td>\n",
       "    </tr>\n",
       "    <tr>\n",
       "      <th>recall</th>\n",
       "      <td>0.763158</td>\n",
       "    </tr>\n",
       "    <tr>\n",
       "      <th>precision</th>\n",
       "      <td>0.896907</td>\n",
       "    </tr>\n",
       "    <tr>\n",
       "      <th>roc_auc_score</th>\n",
       "      <td>0.838101</td>\n",
       "    </tr>\n",
       "    <tr>\n",
       "      <th>f1_score</th>\n",
       "      <td>0.824645</td>\n",
       "    </tr>\n",
       "  </tbody>\n",
       "</table>\n",
       "</div>"
      ],
      "text/plain": [
       "                      0\n",
       "accuracy       0.838428\n",
       "recall         0.763158\n",
       "precision      0.896907\n",
       "roc_auc_score  0.838101\n",
       "f1_score       0.824645"
      ]
     },
     "execution_count": 32,
     "metadata": {},
     "output_type": "execute_result"
    }
   ],
   "source": [
    "from sklearn.metrics import accuracy_score, confusion_matrix, recall_score, roc_auc_score, precision_score,f1_score\n",
    "pd.DataFrame(data=[accuracy_score(y_test, predictR), recall_score(y_test, predictR),\n",
    "                   precision_score(y_test, predictR), roc_auc_score(y_test, predictR),f1_score(y_test,predictR)], \n",
    "                   index=[\"accuracy\", \"recall\", \"precision\", \"roc_auc_score\",\"f1_score\"])"
   ]
  },
  {
   "cell_type": "code",
   "execution_count": 33,
   "metadata": {},
   "outputs": [
    {
     "data": {
      "image/png": "[encoded data removed]",
      "text/plain": [
       "<Figure size 640x480 with 2 Axes>"
      ]
     },
     "metadata": {},
     "output_type": "display_data"
    }
   ],
   "source": [
    "cm=confusion_matrix(y_test,predictR)\n",
    "ConfusionMatrixDisplay(confusion_matrix=cm).plot();"
   ]
  },
  {
   "cell_type": "code",
   "execution_count": 34,
   "metadata": {},
   "outputs": [
    {
     "data": {
      "text/html": [
       "<div>\n",
       "<style scoped>\n",
       "    .dataframe tbody tr th:only-of-type {\n",
       "        vertical-align: middle;\n",
       "    }\n",
       "\n",
       "    .dataframe tbody tr th {\n",
       "        vertical-align: top;\n",
       "    }\n",
       "\n",
       "    .dataframe thead th {\n",
       "        text-align: right;\n",
       "    }\n",
       "</style>\n",
       "<table border=\"1\" class=\"dataframe\">\n",
       "  <thead>\n",
       "    <tr style=\"text-align: right;\">\n",
       "      <th></th>\n",
       "      <th>0</th>\n",
       "    </tr>\n",
       "  </thead>\n",
       "  <tbody>\n",
       "    <tr>\n",
       "      <th>accuracy</th>\n",
       "      <td>0.838428</td>\n",
       "    </tr>\n",
       "    <tr>\n",
       "      <th>recall</th>\n",
       "      <td>0.763158</td>\n",
       "    </tr>\n",
       "    <tr>\n",
       "      <th>precision</th>\n",
       "      <td>0.896907</td>\n",
       "    </tr>\n",
       "    <tr>\n",
       "      <th>roc_auc_score</th>\n",
       "      <td>0.838101</td>\n",
       "    </tr>\n",
       "    <tr>\n",
       "      <th>f1_score</th>\n",
       "      <td>0.824645</td>\n",
       "    </tr>\n",
       "  </tbody>\n",
       "</table>\n",
       "</div>"
      ],
      "text/plain": [
       "                      0\n",
       "accuracy       0.838428\n",
       "recall         0.763158\n",
       "precision      0.896907\n",
       "roc_auc_score  0.838101\n",
       "f1_score       0.824645"
      ]
     },
     "execution_count": 34,
     "metadata": {},
     "output_type": "execute_result"
    }
   ],
   "source": [
    "from sklearn.metrics import accuracy_score, confusion_matrix, recall_score, roc_auc_score, precision_score,f1_score\n",
    "pd.DataFrame(data=[accuracy_score(y_test, predictR), recall_score(y_test, predictR),\n",
    "                   precision_score(y_test, predictR), roc_auc_score(y_test, predictR),f1_score(y_test,predictR)], \n",
    "                   index=[\"accuracy\", \"recall\", \"precision\", \"roc_auc_score\",\"f1_score\"])"
   ]
  },
  {
   "cell_type": "code",
   "execution_count": 35,
   "metadata": {},
   "outputs": [
    {
     "name": "stdout",
     "output_type": "stream",
     "text": [
      "              precision    recall  f1-score   support\n",
      "\n",
      "           1       0.90      0.76      0.82       114\n",
      "           2       0.80      0.91      0.85       115\n",
      "\n",
      "    accuracy                           0.84       229\n",
      "   macro avg       0.85      0.84      0.84       229\n",
      "weighted avg       0.85      0.84      0.84       229\n",
      "\n"
     ]
    }
   ],
   "source": [
    "print(classification_report(y_test,predictR))"
   ]
  },
  {
   "cell_type": "code",
   "execution_count": null,
   "metadata": {},
   "outputs": [],
   "source": []
  }
 ],
 "metadata": {
  "kernelspec": {
   "display_name": "Python 3 (ipykernel)",
   "language": "python",
   "name": "python3"
  },
  "language_info": {
   "codemirror_mode": {
    "name": "ipython",
    "version": 3
   },
   "file_extension": ".py",
   "mimetype": "text/x-python",
   "name": "python",
   "nbconvert_exporter": "python",
   "pygments_lexer": "ipython3",
   "version": "3.9.13"
  }
 },
 "nbformat": 4,
 "nbformat_minor": 4
}
